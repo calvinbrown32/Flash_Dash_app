{
 "cells": [
  {
   "cell_type": "code",
   "execution_count": 1,
   "metadata": {},
   "outputs": [],
   "source": [
    "import pandas as pd\n"
   ]
  },
  {
   "cell_type": "code",
   "execution_count": 3,
   "metadata": {},
   "outputs": [],
   "source": [
    "url = 'http://calvinbrown32.github.io/Collisions.csv'\n",
    "crash_data = pd.read_csv(url)"
   ]
  },
  {
   "cell_type": "code",
   "execution_count": 20,
   "metadata": {},
   "outputs": [
    {
     "data": {
      "text/plain": [
       "CASE_ID\n",
       "6293005     False\n",
       "6787125     False\n",
       "6790064     False\n",
       "6808775     False\n",
       "6809978     False\n",
       "            ...  \n",
       "90962608    False\n",
       "90973596    False\n",
       "91057109    False\n",
       "91145832    False\n",
       "91147465    False\n",
       "Name: PEDESTRIAN_ACCIDENT, Length: 422, dtype: bool"
      ]
     },
     "execution_count": 20,
     "metadata": {},
     "output_type": "execute_result"
    }
   ],
   "source": [
    "crash_data.PEDESTRIAN_ACCIDENT=='Y'"
   ]
  },
  {
   "cell_type": "code",
   "execution_count": 17,
   "metadata": {},
   "outputs": [
    {
     "data": {
      "text/plain": [
       "CASE_ID\n",
       "6293005     False\n",
       "6787125     False\n",
       "6790064     False\n",
       "6808775     False\n",
       "6809978     False\n",
       "            ...  \n",
       "90962608    False\n",
       "90973596    False\n",
       "91057109    False\n",
       "91145832    False\n",
       "91147465    False\n",
       "Name: PEDESTRIAN_ACCIDENT, Length: 422, dtype: bool"
      ]
     },
     "execution_count": 17,
     "metadata": {},
     "output_type": "execute_result"
    }
   ],
   "source": [
    "crash_data.PEDESTRIAN_ACCIDENT=='Y'\n"
   ]
  },
  {
   "cell_type": "code",
   "execution_count": 16,
   "metadata": {},
   "outputs": [],
   "source": [
    "bike_crashes = crash_data.loc[crash_data.BICYCLE_ACCIDENT=='Y']"
   ]
  },
  {
   "cell_type": "code",
   "execution_count": null,
   "metadata": {},
   "outputs": [],
   "source": [
    "ped_crashes = crash_data.loc[crash_data.PEDESTRIAN_ACCIDENT=='Y']"
   ]
  },
  {
   "cell_type": "code",
   "execution_count": 12,
   "metadata": {},
   "outputs": [],
   "source": [
    "crash_data.set_index(['CASE_ID'], inplace=True)\n",
    "\n"
   ]
  },
  {
   "cell_type": "code",
   "execution_count": 22,
   "metadata": {},
   "outputs": [],
   "source": [
    "crash_data.index.name = None"
   ]
  },
  {
   "cell_type": "code",
   "execution_count": 23,
   "metadata": {},
   "outputs": [],
   "source": [
    "crash_data.index.name"
   ]
  },
  {
   "cell_type": "code",
   "execution_count": null,
   "metadata": {},
   "outputs": [],
   "source": []
  }
 ],
 "metadata": {
  "kernelspec": {
   "display_name": "Python 3",
   "language": "python",
   "name": "python3"
  },
  "language_info": {
   "codemirror_mode": {
    "name": "ipython",
    "version": 3
   },
   "file_extension": ".py",
   "mimetype": "text/x-python",
   "name": "python",
   "nbconvert_exporter": "python",
   "pygments_lexer": "ipython3",
   "version": "3.7.6"
  }
 },
 "nbformat": 4,
 "nbformat_minor": 4
}
